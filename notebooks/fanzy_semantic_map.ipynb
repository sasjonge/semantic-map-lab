{
 "cells": [
  {
   "cell_type": "markdown",
   "id": "25448300",
   "metadata": {},
   "source": [
    "# Loading a semantic map using knowrob\n",
    "\n",
    "This notebook demonstrates how to load a semantic map into KnowRob. KnowRob will first try to load a settings file in ~/.knowrob/settings/default.json. If this is not faund it loads the mongolog.json from the KnowRob package.\n",
    "\n",
    "For this notebook we want to load the settings from the notebook. This can be done via the magic command \"%kr_load_setting\":"
   ]
  },
  {
   "cell_type": "code",
   "execution_count": 1,
   "id": "8105131c",
   "metadata": {},
   "outputs": [
    {
     "name": "stdout",
     "output_type": "stream",
     "text": [
      "Settings loaded and KnowledgeBase initialized successfully."
     ]
    }
   ],
   "source": [
    "%kr_load_setting\n",
    "{\n",
    "    \"logging\": {\n",
    "        \"console-sink\": {\"level\": \"debug\"},\n",
    "        \"file-sink\": {\"level\": \"debug\"}\n",
    "    },\n",
    "    \"semantic-web\": {\n",
    "        \"prefixes\": [\n",
    "            {\"alias\": \"USD\", \"uri\": \"https://ease-crc.org/ont/USD.owl\"},\n",
    "            {\"alias\": \"dfl\", \"uri\": \"http://www.ease-crc.org/ont/SOMA_DFL.owl\"}\n",
    "        ]\n",
    "    },\n",
    "    \"data-sources\": [\n",
    "        {\"path\": \"owl/USD.owl\", \"format\": \"rdf-xml\"},\n",
    "        {\"path\": \"owl/house_4.owl\", \"format\": \"rdf-xml\"}\n",
    "    ],\n",
    "    \"data-backends\": [\n",
    "        {\n",
    "          \"type\": \"Redland\",\n",
    "          \"name\": \"redland\",\n",
    "          \"read-only\": false\n",
    "        }\n",
    "    ],  \n",
    "    \"reasoner\": [\n",
    "        {\n",
    "          \"type\": \"SOMADFLReasoner\",\n",
    "          \"name\": \"DummyReasoner\",\n",
    "          \"module\": \"reasoner/dfl_reasoner.py\",\n",
    "          \"data-backend\": \"redland\"\n",
    "        }\n",
    "    ]\n",
    "}"
   ]
  },
  {
   "cell_type": "markdown",
   "id": "4fe94292",
   "metadata": {},
   "source": [
    "### Submitting Queries\n",
    "Every competency question will be aligned to a query.\n",
    "\n",
    "#### CQ1\n",
    "\n",
    "Which objects do I need for breakfast?"
   ]
  },
  {
   "cell_type": "code",
   "execution_count": null,
   "id": "d8e27ed0",
   "metadata": {},
   "outputs": [],
   "source": [
    "dfl:isInstanceOf(?instances, 'http://ease-crc.org/ont/SOMA_DFL.owl#breakfast_food.n.wn.food'),\n",
    "dfl:isSubclassOf(?objects, 'http://ease-crc.org/ont/SOMA_DFL.owl#breakfast_food.n.wn.food)"
   ]
  },
  {
   "cell_type": "markdown",
   "id": "ed234554",
   "metadata": {},
   "source": [
    "#### CQ2\n",
    "\n",
    "Which objects contain something to drink?"
   ]
  },
  {
   "cell_type": "code",
   "execution_count": 3,
   "id": "204f624a",
   "metadata": {},
   "outputs": [
    {
     "name": "stdout",
     "output_type": "stream",
     "text": [
      "?y : USD:Bedroom_4;\n"
     ]
    }
   ],
   "source": [
    "triple('https://ease-crc.org/ont/USD.owl#house_4', 'http://www.ontologydesignpatterns.org/ont/dul/DUL.owl#hasPart', ?y)"
   ]
  },
  {
   "cell_type": "markdown",
   "id": "8fc937a0",
   "metadata": {},
   "source": [
    "#### CQ3\n",
    "\n",
    "Where do we expect an item to be? "
   ]
  },
  {
   "cell_type": "code",
   "execution_count": 4,
   "id": "31a50fef",
   "metadata": {},
   "outputs": [
    {
     "name": "stdout",
     "output_type": "stream",
     "text": [
      "?y : USD:Bedroom_4;\n"
     ]
    }
   ],
   "source": [
    "triple('https://ease-crc.org/ont/USD.owl#house_4', 'http://www.ontologydesignpatterns.org/ont/dul/DUL.owl#hasPart', ?y)"
   ]
  },
  {
   "cell_type": "markdown",
   "id": "af869dac",
   "metadata": {},
   "source": [
    "#### CQ4\n",
    "\n",
    "What can I grasp on an object to open it?"
   ]
  },
  {
   "cell_type": "code",
   "execution_count": 5,
   "id": "fcd9c6e4",
   "metadata": {},
   "outputs": [
    {
     "name": "stdout",
     "output_type": "stream",
     "text": [
      "?y : USD:Bedroom_4;\n"
     ]
    }
   ],
   "source": [
    "triple('https://ease-crc.org/ont/USD.owl#house_4', 'http://www.ontologydesignpatterns.org/ont/dul/DUL.owl#hasPart', ?y)"
   ]
  },
  {
   "cell_type": "markdown",
   "id": "27a43490",
   "metadata": {},
   "source": [
    "#### CQ5\n",
    "\n",
    "Where should I put the utensils for breakfast?"
   ]
  },
  {
   "cell_type": "code",
   "execution_count": 6,
   "id": "1db503f6",
   "metadata": {},
   "outputs": [
    {
     "name": "stdout",
     "output_type": "stream",
     "text": [
      "?y : USD:Bedroom_4;\n"
     ]
    }
   ],
   "source": [
    "triple('https://ease-crc.org/ont/USD.owl#house_4', 'http://www.ontologydesignpatterns.org/ont/dul/DUL.owl#hasPart', ?y)"
   ]
  },
  {
   "cell_type": "code",
   "execution_count": null,
   "id": "4dd80aed",
   "metadata": {},
   "outputs": [],
   "source": []
  }
 ],
 "metadata": {
  "kernelspec": {
   "display_name": "KnowRob",
   "language": "text",
   "name": "echo"
  },
  "language_info": {
   "file_extension": ".pl",
   "mimetype": "text/x-prolog",
   "name": "prolog"
  }
 },
 "nbformat": 4,
 "nbformat_minor": 5
}
