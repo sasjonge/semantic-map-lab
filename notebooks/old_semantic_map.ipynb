{
 "cells": [
  {
   "cell_type": "markdown",
   "id": "67d5ffd8-7d7e-4cb8-a0b6-06aaf4ab6c14",
   "metadata": {},
   "source": [
    "# Loading a semantic map using knowrob\n",
    "\n",
    "This notebook demonstrates how to load a semantic map into KnowRob\n",
    "\n",
    "### Importing KnowRob Modules\n",
    "\n",
    "We will first initialize KnowRob"
   ]
  },
  {
   "cell_type": "code",
   "execution_count": null,
   "id": "2338f118-244d-4b65-81b7-156f96b39b1f",
   "metadata": {
    "execution": {
     "iopub.execute_input": "2024-08-20T14:14:16.790229Z",
     "iopub.status.busy": "2024-08-20T14:14:16.789831Z",
     "iopub.status.idle": "2024-08-20T14:14:16.911796Z",
     "shell.execute_reply": "2024-08-20T14:14:16.909639Z",
     "shell.execute_reply.started": "2024-08-20T14:14:16.790183Z"
    },
    "tags": []
   },
   "outputs": [],
   "source": [
    "import json\n",
    "from knowrob import *\n",
    "    \n",
    "InitKnowRob()"
   ]
  },
  {
   "cell_type": "markdown",
   "id": "7d3d639e-8d79-438c-98c5-f6786a7d8c25",
   "metadata": {},
   "source": [
    "### Setting Up Knowledge Base\n",
    "\n",
    "Now we set up the knowledge base. See the second data-sources field, to see the path to an expected ontology. Add this ontology before running this cell."
   ]
  },
  {
   "cell_type": "code",
   "execution_count": null,
   "id": "b3b96755-43b8-4ee2-9e74-c6128808b052",
   "metadata": {
    "execution": {
     "iopub.execute_input": "2024-08-20T14:14:16.913796Z",
     "iopub.status.busy": "2024-08-20T14:14:16.913553Z",
     "iopub.status.idle": "2024-08-20T14:14:18.847280Z",
     "shell.execute_reply": "2024-08-20T14:14:18.844344Z",
     "shell.execute_reply.started": "2024-08-20T14:14:16.913745Z"
    },
    "tags": []
   },
   "outputs": [],
   "source": [
    "# Sample dictionary to be converted to JSON\n",
    "sample_dict = {\n",
    "\t\"logging\": {\n",
    "\t\t\"console-sink\": {\"level\": \"debug\"},\n",
    "\t\t\"file-sink\": {\"level\": \"debug\"}\n",
    "\t},\n",
    "\t\"semantic-web\": {\n",
    "\t\t\"prefixes\": [\n",
    "\t\t\t{\"alias\": \"USD\", \"uri\": \"https://ease-crc.org/ont/USD.owl\"},\n",
    "            {\"alias\": \"dfl\", \"uri\": \"http://www.ease-crc.org/ont/SOMA_DFL.owl\"}\n",
    "\n",
    "\t\t]\n",
    "\t},\n",
    "\t\"data-sources\": [\n",
    "\t\t{\"path\": \"owl/USD.owl\", \"format\": \"rdf-xml\"},\n",
    "\t\t{\"path\": \"owl/house_4.owl\", \"format\": \"rdf-xml\"}\n",
    "\t],\n",
    "\t\"data-backends\": [\n",
    "    {\n",
    "      \"type\": \"Redland\",\n",
    "      \"name\": \"redland\",\n",
    "      \"read-only\": False\n",
    "    }\n",
    "\t],  \n",
    "    \"reasoner\": [\n",
    "    {\n",
    "      \"type\": \"SOMADFLReasoner\",\n",
    "      \"name\": \"DummyReasoner\",\n",
    "      \"module\": \"reasoner/dfl_reasoner.py\",\n",
    "      \"data-backend\": \"redland\"\n",
    "    }\n",
    "    ]\n",
    "}\n",
    "# Convert the dictionary to a JSON string\n",
    "json_str = json.dumps(sample_dict)\n",
    "# Initialize the KnowledgeBase with the PropertyTree\n",
    "kb = KnowledgeBase(json_str)"
   ]
  },
  {
   "cell_type": "markdown",
   "id": "1366faf4-24ba-43ad-ae3c-0358178e54eb",
   "metadata": {},
   "source": [
    "### Submitting a Query\n",
    "\n",
    "Now we want to run a query on the loaded semantic map:"
   ]
  },
  {
   "cell_type": "code",
   "execution_count": null,
   "id": "250ae5df-d7bd-4751-b6ab-44058f591b2e",
   "metadata": {
    "execution": {
     "iopub.execute_input": "2024-08-20T14:16:21.503297Z",
     "iopub.status.busy": "2024-08-20T14:16:21.501329Z",
     "iopub.status.idle": "2024-08-20T14:16:21.521277Z",
     "shell.execute_reply": "2024-08-20T14:16:21.519843Z",
     "shell.execute_reply.started": "2024-08-20T14:16:21.503246Z"
    },
    "scrolled": false,
    "tags": []
   },
   "outputs": [],
   "source": [
    "phi1 = QueryParser.parse(\"dfl:isInstanceOf(?x, 'http://ease-crc.org/ont/SOMA_DFL.owl#breakfast_food.n.wn.food')\")\n",
    "resultStream = kb.submitQuery(phi1, QueryContext(QueryFlag.QUERY_FLAG_ALL_SOLUTIONS))\n",
    "resultQueue = resultStream.createQueue()\n",
    "# Get the result\n",
    "nextResult1 = resultQueue.pop_front()\n",
    "\n",
    "if isinstance(nextResult1, AnswerYes):\n",
    "    for substitution in nextResult1.substitution():\n",
    "        variable = substitution[1]\n",
    "        term = substitution[2]\n",
    "        print(str(variable) + \" : \" + str(term))"
   ]
  },
  {
   "cell_type": "markdown",
   "id": "34c83924",
   "metadata": {},
   "source": [
    "CQ1 Which objects do I need for breakfast/\n",
    "CQ2 Which objects contain something to drink?\n",
    "CQ3 Where do we expect an item to be?\n",
    "CQ4 What can I grasp on an object to open it?\n",
    "CQ5 Where should I put the utensils for breakfast?"
   ]
  },
  {
   "cell_type": "code",
   "execution_count": null,
   "id": "cdc6abfa",
   "metadata": {},
   "outputs": [],
   "source": [
    "phi1 = QueryParser.parse(\"'http://knowrob.org/kb/lpn#jealous'(?s, ?y)\")\n",
    "resultStream = kb.submitQuery(phi1, QueryContext(QueryFlag.QUERY_FLAG_ALL_SOLUTIONS))\n",
    "resultQueue = resultStream.createQueue()\n",
    "# Get the result\n",
    "nextResult1 = resultQueue.pop_front()\n",
    "\n",
    "if isinstance(nextResult1, AnswerNo):\n",
    "    print(\"Answer is no\")"
   ]
  },
  {
   "cell_type": "code",
   "execution_count": null,
   "id": "d15004a3",
   "metadata": {},
   "outputs": [],
   "source": []
  }
 ],
 "metadata": {
  "kernelspec": {
   "display_name": "Python 3 (ipykernel)",
   "language": "python",
   "name": "python3"
  },
  "language_info": {
   "codemirror_mode": {
    "name": "ipython",
    "version": 3
   },
   "file_extension": ".py",
   "mimetype": "text/x-python",
   "name": "python",
   "nbconvert_exporter": "python",
   "pygments_lexer": "ipython3",
   "version": "3.8.10"
  }
 },
 "nbformat": 4,
 "nbformat_minor": 5
}
