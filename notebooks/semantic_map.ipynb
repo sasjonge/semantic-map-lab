{
 "cells": [
  {
   "cell_type": "markdown",
   "id": "67d5ffd8-7d7e-4cb8-a0b6-06aaf4ab6c14",
   "metadata": {},
   "source": [
    "# Loading a semantic map using knowrob\n",
    "\n",
    "This notebook demonstrates how to load a semantic map into KnowRob\n",
    "\n",
    "### Importing KnowRob Modules\n",
    "\n",
    "We will first initialize KnowRob"
   ]
  },
  {
   "cell_type": "code",
   "execution_count": null,
   "id": "2338f118-244d-4b65-81b7-156f96b39b1f",
   "metadata": {
    "execution": {
     "iopub.execute_input": "2024-08-20T14:14:16.790229Z",
     "iopub.status.busy": "2024-08-20T14:14:16.789831Z",
     "iopub.status.idle": "2024-08-20T14:14:16.911796Z",
     "shell.execute_reply": "2024-08-20T14:14:16.909639Z",
     "shell.execute_reply.started": "2024-08-20T14:14:16.790183Z"
    },
    "scrolled": true,
    "tags": []
   },
   "outputs": [],
   "source": [
    "from enum import Enum\n",
    "import json\n",
    "from knowrob import *\n",
    "\n",
    "# Temporary workaround: we need access to expandName\n",
    "import dfl.dlquery as dl\n",
    "    \n",
    "InitKnowRob()"
   ]
  },
  {
   "cell_type": "markdown",
   "id": "7d3d639e-8d79-438c-98c5-f6786a7d8c25",
   "metadata": {},
   "source": [
    "### Setting Up Knowledge Base\n",
    "\n",
    "Now we set up the knowledge base. See the second data-sources field, to see the path to an expected ontology. Add this ontology before running this cell."
   ]
  },
  {
   "cell_type": "code",
   "execution_count": null,
   "id": "b3b96755-43b8-4ee2-9e74-c6128808b052",
   "metadata": {
    "execution": {
     "iopub.execute_input": "2024-08-20T14:14:16.913796Z",
     "iopub.status.busy": "2024-08-20T14:14:16.913553Z",
     "iopub.status.idle": "2024-08-20T14:14:18.847280Z",
     "shell.execute_reply": "2024-08-20T14:14:18.844344Z",
     "shell.execute_reply.started": "2024-08-20T14:14:16.913745Z"
    },
    "tags": []
   },
   "outputs": [],
   "source": [
    "# Sample dictionary to be converted to JSON\n",
    "sample_dict = {\n",
    "\t\"logging\": {\n",
    "\t\t\"console-sink\": {\"level\": \"debug\"},\n",
    "\t\t\"file-sink\": {\"level\": \"debug\"}\n",
    "\t},\n",
    "\t\"semantic-web\": {\n",
    "\t\t\"prefixes\": [\n",
    "            {\"alias\": \"dul\", \"uri\": \"http://www.ontologydesignpatterns.org/ont/dul/DUL.owl\"},\n",
    "\t\t\t{\"alias\": \"USD\", \"uri\": \"https://ease-crc.org/ont/USD.owl\"},\n",
    "            {\"alias\": \"dfl\", \"uri\": \"http://www.ease-crc.org/ont/SOMA_DFL.owl\"}\n",
    "\t\t]\n",
    "\t},\n",
    "\t\"data-sources\": [\n",
    "\t\t{\"path\": \"owl/USD.owl\", \"format\": \"rdf-xml\"},\n",
    "\t\t{\"path\": \"owl/house_example.owl\", \"format\": \"rdf-xml\"}\n",
    "\t],\n",
    "\t\"data-backends\": [\n",
    "    {\n",
    "      \"type\": \"Redland\",\n",
    "      \"name\": \"redland\",\n",
    "      \"read-only\": False\n",
    "    }\n",
    "\t],  \n",
    "    \"reasoner\": [\n",
    "    {\n",
    "      \"type\": \"SOMADFLReasoner\",\n",
    "      \"name\": \"DFLReasoner\",\n",
    "      \"module\": \"reasoner/dfl_reasoner.py\",\n",
    "      \"data-backend\": \"redland\"\n",
    "    }\n",
    "    ]\n",
    "}\n",
    "# Convert the dictionary to a JSON string\n",
    "json_str = json.dumps(sample_dict)\n",
    "# Initialize the KnowledgeBase with the PropertyTree\n",
    "kb = KnowledgeBase(json_str)\n",
    "\n",
    "def runQuery(queryStr):\n",
    "    phi = QueryParser.parse(queryStr)\n",
    "    resultStream = kb.submitQuery(phi, QueryContext(QueryFlag.QUERY_FLAG_ALL_SOLUTIONS))\n",
    "    resultQueue = resultStream.createQueue()\n",
    "    retq = None\n",
    "    result = resultQueue.pop_front()\n",
    "    while not result.indicatesEndOfEvaluation():\n",
    "        if retq is None:\n",
    "            retq = []\n",
    "        if isinstance(result, AnswerYes):\n",
    "            aux = {}\n",
    "            for substitution in result.substitution():\n",
    "                variable, term = substitution[1], substitution[2]\n",
    "                svar, sterm = None, None\n",
    "                try:\n",
    "                    svar, sterm = str(variable), str(term)\n",
    "                except:\n",
    "                    pass\n",
    "                if (svar is not None) and (sterm is not None):\n",
    "                    aux[svar] = str(sterm)\n",
    "            retq.append(aux)\n",
    "        elif isinstance(result, AnswerNo):\n",
    "            retq = None\n",
    "            break\n",
    "        result = resultQueue.pop_front()\n",
    "    return retq\n",
    "\n",
    "# Some useful shortcuts in the ontology\n",
    "\n",
    "class SOMADFL:\n",
    "    storingTask = \"dfl:store.v.wn.possession..place\"\n",
    "    servingFoodTask = 'dfl:serve.v.wn.consumption..concrete'\n",
    "    eatingPatient = \"dfl:eat.v.wn.consumption..food.Patient\"\n",
    "    graspingPatient = \"dfl:hold.v.wn.contact..grasp.Theme\"\n",
    "    servingFoodLocation = \"http://www.ease-crc.org/ont/SOMA_DFL.owl#serve.v.wn.consumption..concrete.Location\"\n",
    "    breakfastFoodClass = \"dfl:breakfast_food.n.wn.food\"\n",
    "    solidFoodClass = \"dfl:food.n.wn.food..solid\"\n"
   ]
  },
  {
   "cell_type": "markdown",
   "id": "1366faf4-24ba-43ad-ae3c-0358178e54eb",
   "metadata": {},
   "source": [
    "### Submitting the Competency Questions\n",
    "\n",
    "Now we we will run the competency questions.\n",
    "\n",
    "#### CQ1: Which objects do I need for breakfast?\n",
    "\n",
    "This will return items that are considered breakfast food, and tools that may be needed to serve these. Some scenes may not contain breakfast food, so we will also inquire what food is there in general.\n"
   ]
  },
  {
   "cell_type": "code",
   "execution_count": null,
   "id": "250ae5df-d7bd-4751-b6ab-44058f591b2e",
   "metadata": {
    "execution": {
     "iopub.execute_input": "2024-08-20T14:16:21.503297Z",
     "iopub.status.busy": "2024-08-20T14:16:21.501329Z",
     "iopub.status.idle": "2024-08-20T14:16:21.521277Z",
     "shell.execute_reply": "2024-08-20T14:16:21.519843Z",
     "shell.execute_reply.started": "2024-08-20T14:16:21.503246Z"
    },
    "tags": []
   },
   "outputs": [],
   "source": [
    "# CQ1: which objects do I need for breakfast? -- reinterpreted as, what objects are subclasses of breakfast food, \n",
    "# and what can I use to serve those\n",
    "\n",
    "# Are there any objects that are instances of breakfast food?\n",
    "bdgs = runQuery(f\"dfl:isInstanceOf(?x, \\'{SOMADFL.breakfastFoodClass}\\')\")\n",
    "breakfastFoodItems = [x[\"?x\"] for x in (bdgs or [])]\n",
    "\n",
    "# Are there any objects that contain something that is a breakfast food?\n",
    "\n",
    "#     First, what kinds of breakfast food are there?\n",
    "bdgs = runQuery(f\"dfl:isSubclassOf(?x, '{SOMADFL.breakfastFoodClass}')\")\n",
    "breakfastFoodClasses = [x[\"?x\"] for x in (bdgs or [])]\n",
    "\n",
    "#     Second, what containers for these things are around?\n",
    "containerItems = set()\n",
    "breakfastFoodClassesPresent = set()\n",
    "for food in breakfastFoodClasses:\n",
    "    bdgs = runQuery(f\"dfl:hasPart(?x, '{food}')\")\n",
    "    containerItems = containerItems.union([x[\"?x\"] for x in (bdgs or [])])\n",
    "    if (bdgs is not None) and (0 < len(bdgs)):\n",
    "        breakfastFoodClassesPresent.add(food)\n",
    "\n",
    "# What sort of tools are used to serve the breakfast food we found \n",
    "#     (either as stand-alone items, or contained somewhere)?\n",
    "toolItems = set()\n",
    "for food in set().union(breakfastFoodItems).union(breakfastFoodClassesPresent):\n",
    "    bdgs = runQuery(f\"dfl:useMatch('{SOMADFL.servingFoodTask}', ?x, '{food}')\")\n",
    "    toolItems = toolItems.union([x[\"?x\"] for x in (bdgs or [])])\n",
    "\n",
    "# Report the results\n",
    "edibles = containerItems.union(breakfastFoodItems)\n",
    "print(\"These things look like breakfast food or contain some breakfast food: %s\" % str(sorted(edibles)))\n",
    "print(\" ... and might need these items to serve them: %s\" % str(sorted(list(toolItems))))\n",
    "\n",
    "# Let's also try looking for food in general\n",
    "\n",
    "bdgs = runQuery(f\"dfl:hasDisposition(?x, '{SOMADFL.eatingPatient}')\")\n",
    "foodItems = [x[\"?x\"] for x in (bdgs or [])]\n",
    "\n",
    "# Are there any objects that contain something that is a breakfast food?\n",
    "\n",
    "#     First, what kinds of breakfast food are there?\n",
    "bdgs = runQuery(f\"dfl:isSubclassOf(?x, '{SOMADFL.solidFoodClass}')\")\n",
    "foodClasses = [x[\"?x\"] for x in (bdgs or [])]\n",
    "\n",
    "#     Second, what containers for these things are around?\n",
    "containerItems = set()\n",
    "foodClassesPresent = set()\n",
    "for food in foodClasses:\n",
    "    bdgs = runQuery(f\"dfl:hasPart(?x, '{food}')\")\n",
    "    containerItems = containerItems.union([x[\"?x\"] for x in (bdgs or [])])\n",
    "    if (bdgs is not None) and (0 < len(bdgs)):\n",
    "        foodClassesPresent.add(food)\n",
    "\n",
    "# What sort of tools are used to serve the breakfast food we found \n",
    "#     (either as stand-alone items, or contained somewhere)?\n",
    "toolItems = set()\n",
    "for food in set().union(foodItems).union(foodClassesPresent):\n",
    "    bdgs = runQuery(f\"dfl:useMatch('{SOMADFL.servingFoodTask}', ?x, '{food}')\")\n",
    "    toolItems = toolItems.union([x[\"?x\"] for x in (bdgs or [])])\n",
    "\n",
    "# Report the results\n",
    "edibles = containerItems.union(foodItems)\n",
    "print(\"If looking for food in general, these things look like they might fit: %s\" % str(sorted(edibles)))\n",
    "print(\" ... and might need these items to serve them: %s\" % str(sorted(list(toolItems))))\n"
   ]
  },
  {
   "cell_type": "markdown",
   "id": "de6af732",
   "metadata": {},
   "source": [
    "#### CQ2 What are the storage locations for our food items?"
   ]
  },
  {
   "cell_type": "code",
   "execution_count": null,
   "id": "1c339d9a",
   "metadata": {},
   "outputs": [],
   "source": [
    "# CQ2: Where can we find the food?\n",
    "\n",
    "if 0 < len(edibles):\n",
    "    locations = {}\n",
    "    for food in edibles:\n",
    "        bdgs = runQuery(f\"dfl:useMatch('{SOMADFL.storingTask}', ?x, '{food}')\")\n",
    "        locations[food] = [x[\"?x\"] for x in (bdgs or [])]\n",
    "    \n",
    "    # Report the results\n",
    "    print(\"Places where to look for food:\")\n",
    "    for food in sorted(list(locations.keys())):\n",
    "        print(f\"{food}: {sorted(locations[food])}\")\n",
    "else:\n",
    "    print(\"Did not find anything edible in this scene at CQ1 so will skip CQ2 ...\")\n",
    "\n"
   ]
  },
  {
   "cell_type": "markdown",
   "id": "34c83924",
   "metadata": {},
   "source": [
    "#### CQ3 Where do we expect an item to be?"
   ]
  },
  {
   "cell_type": "code",
   "execution_count": null,
   "id": "589189d7",
   "metadata": {
    "scrolled": true
   },
   "outputs": [],
   "source": [
    "# CQ3: Where do we expect an item to be? -- note, there is no ranking of locations by likelihood,\n",
    "# and there may be many plausible locations!\n",
    "\n",
    "# For example, lets pick a tool from CQ1\n",
    "if 0 < len(toolItems):\n",
    "    locations = {}\n",
    "    for tool in toolItems:\n",
    "        bdgs = runQuery(f\"dfl:useMatch('{SOMADFL.storingTask}', ?x, '{tool}')\")\n",
    "        locations[tool] = [x[\"?x\"] for x in (bdgs or [])]\n",
    "\n",
    "    # Report results\n",
    "    print(\"Places where to look for tools:\")\n",
    "    for tool in sorted(list(locations.keys())):\n",
    "        print(f\"{tool}: {sorted(locations[tool])}\")\n",
    "else:\n",
    "    print(\"Did not find any tools at CQ1 so will skip CQ3 ...\")\n",
    "\n"
   ]
  },
  {
   "cell_type": "markdown",
   "id": "5f125ff2",
   "metadata": {},
   "source": [
    "#### CQ4 What can I grasp on an object?"
   ]
  },
  {
   "cell_type": "code",
   "execution_count": null,
   "id": "332bd773",
   "metadata": {},
   "outputs": [],
   "source": [
    "# CQ4: What can I grasp on an object to open it?\n",
    "\n",
    "# For example, lets pick a tool from CQ1\n",
    "if 0 < len(toolItems):\n",
    "    item = list(toolItems)[0]\n",
    "    \n",
    "    # What parts does the object have?\n",
    "    bdgs = runQuery(f\"dul:hasPart('{dl.expandName(item)}', ?x)\")\n",
    "    parts = [x[\"?x\"] for x in (bdgs or [])]\n",
    "    parts = set(parts).union([item])\n",
    "    \n",
    "    # Which of them are graspable?\n",
    "    graspables = set()\n",
    "    for part in parts:\n",
    "        bdgs = runQuery(f\"dfl:hasDisposition('{part}', '{SOMADFL.graspingPatient}')\")\n",
    "        if bdgs is not None:\n",
    "            graspables.add(part)\n",
    "            \n",
    "    # IF complex queries work (and assuming an object has itself as part, or else a disjunction is needed):\n",
    "    # bdgs = runQuery(f\"dul:hasPart('{item}', ?x), dfl:hasDisposition(?x, 'dfl:hold.v.wn.contact..grasp')\")\n",
    "    # graspables = [x[\"?x\"] for x in bdgs]\n",
    "    # Report results\n",
    "    print(\"Can try to grasp %s by grasping one of %s\" % (item, str(sorted(list(graspables)))))\n",
    "    \n",
    "else:\n",
    "    print(\"Did not find any tools at CQ1 so will skip CQ4 ...\")"
   ]
  },
  {
   "cell_type": "markdown",
   "id": "2039bdb9",
   "metadata": {},
   "source": [
    "#### CQ5 Where should I put the utensils for breakfast?"
   ]
  },
  {
   "cell_type": "code",
   "execution_count": null,
   "id": "414bf8fb",
   "metadata": {},
   "outputs": [],
   "source": [
    "# CQ5: Where to place the utensils for breakfast?\n",
    "\n",
    "bdgs = runQuery(f\"dfl:hasDisposition(?x, '{SOMADFL.servingFoodLocation}')\")\n",
    "locations = [x[\"?x\"] for x in (bdgs or [])]\n",
    "\n",
    "# Report results\n",
    "print(\"You could set up the meal at one of these locations: %s\" % str(locations))"
   ]
  },
  {
   "cell_type": "code",
   "execution_count": null,
   "id": "9e23f2e7",
   "metadata": {},
   "outputs": [],
   "source": []
  }
 ],
 "metadata": {
  "kernelspec": {
   "display_name": "Python 3 (ipykernel)",
   "language": "python",
   "name": "python3"
  },
  "language_info": {
   "codemirror_mode": {
    "name": "ipython",
    "version": 3
   },
   "file_extension": ".py",
   "mimetype": "text/x-python",
   "name": "python",
   "nbconvert_exporter": "python",
   "pygments_lexer": "ipython3",
   "version": "3.8.10"
  }
 },
 "nbformat": 4,
 "nbformat_minor": 5
}
